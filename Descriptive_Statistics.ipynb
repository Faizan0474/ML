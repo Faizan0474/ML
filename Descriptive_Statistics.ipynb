{
  "nbformat": 4,
  "nbformat_minor": 5,
  "metadata": {
    "kernelspec": {
      "display_name": "Python 3",
      "language": "python",
      "name": "python3"
    },
    "language_info": {
      "codemirror_mode": {
        "name": "ipython",
        "version": 3
      },
      "file_extension": ".py",
      "mimetype": "text/x-python",
      "name": "python",
      "nbconvert_exporter": "python",
      "pygments_lexer": "ipython3",
      "version": "3.8.8"
    },
    "colab": {
      "name": "Descriptive_Statistics.ipynb",
      "provenance": [],
      "collapsed_sections": []
    }
  },
  "cells": [
    {
      "cell_type": "markdown",
      "metadata": {
        "id": "e8e654c3"
      },
      "source": [
        "# Categorizing Statistics\n",
        "The study of statistics can be categorized into two main branches. \n",
        "These branches are:\n",
        "1) Descriptive statistics\n",
        "2) inferential statistics.\n",
        "\n",
        "To collect data for any statistical study, a population must first be defined. 'Population' indicates a group that has been designated for gathering data from. The data is information collected from the population. A population is not necessarily referring to people. A population could be a group of people, measurements of rainfall in a particular area or a batch of batteries.\n",
        "\n",
        "Data : meaurments or observations that are collected as a source of information. there are differnt types of data and different ways to represent it: categorical and numerical.\n",
        "\n",
        "Data Set: A complete set of all observations"
      ],
      "id": "e8e654c3"
    },
    {
      "cell_type": "markdown",
      "metadata": {
        "id": "0b4bd0a0"
      },
      "source": [
        "# Descriptive Statistics\n",
        "\n",
        "**\"It is used to describe, summarize and present different data sets through numerical calculations, tables and graphs.\"**\n",
        "\n",
        "Descriptive statistics give information that describes the data in some manner. For example, suppose a pet shop sells cats, dogs, birds and fish. If 100 pets are sold, and 40 out of the 100 were dogs, then one description of the data on the pets sold would be that 40% were dogs.\n",
        "\n",
        "This same pet shop may conduct a study on the number of fish sold each day for one month and determine that an average of 10 fish were sold each day. The average is an example of descriptive statistics.\n",
        "\n",
        "Some other measurements in descriptive statistics answer questions such as 'How widely dispersed is this data?', 'Are there a lot of different values?' or 'Are many of the values the same?', 'What value is in the middle of this data?', 'Where does a particular data value stand with respect with the other values in the data set?'"
      ],
      "id": "0b4bd0a0"
    },
    {
      "cell_type": "markdown",
      "metadata": {
        "id": "e46beb1b"
      },
      "source": [
        "# Understanding Descriptive Statistics\n",
        "Descriptive statistics is about describing and summarizing data. It uses two main approaches:\n",
        "\n",
        "The quantitative approach describes and summarizes data numerically.\n",
        "The visual approach illustrates data with charts, plots, histograms, and other graphs"
      ],
      "id": "e46beb1b"
    },
    {
      "cell_type": "markdown",
      "metadata": {
        "id": "3744e5c6"
      },
      "source": [
        "You can apply descriptive statistics to one or many datasets or variables. When you describe and summarize a single variable, you’re performing univariate analysis. When you search for statistical relationships among a pair of variables, you’re doing a bivariate analysis. Similarly, a multivariate analysis is concerned with multiple variables at once."
      ],
      "id": "3744e5c6"
    },
    {
      "cell_type": "markdown",
      "metadata": {
        "id": "e81fd97a"
      },
      "source": [
        "# Types of Measures\n",
        "\n",
        "Central tendency tells you about the centers of the data. Useful measures include the mean, median, and mode.\n",
        "\n",
        "Variability tells you about the spread of the data. Useful measures include variance and standard deviation.\n",
        "\n",
        "Correlation or joint variability tells you about the relation between a pair of variables in a dataset. Useful measures include covariance and the correlation coefficient."
      ],
      "id": "e81fd97a"
    },
    {
      "cell_type": "markdown",
      "metadata": {
        "id": "0e2888fe"
      },
      "source": [
        "# Population and Samples\n",
        "In statistics, the population is a set of all elements or items that you’re interested in. Populations are often vast, which makes them inappropriate for collecting and analyzing data. That’s why statisticians usually try to make some conclusions about a population by choosing and examining a representative subset of that population.\n",
        "\n",
        "This subset of a population is called a sample. Ideally, the sample should preserve the essential statistical features of the population to a satisfactory extent. That way, you’ll be able to use the sample to glean conclusions about the population."
      ],
      "id": "0e2888fe"
    },
    {
      "cell_type": "markdown",
      "metadata": {
        "id": "777ad7a3"
      },
      "source": [
        "# Outliers\n",
        "An outlier is a data point that differs significantly from the majority of the data taken from a sample or population. "
      ],
      "id": "777ad7a3"
    },
    {
      "cell_type": "markdown",
      "metadata": {
        "id": "5b55d4ee"
      },
      "source": [
        "Python’s statistics is a built-in Python library for descriptive statistics. You can use it if your datasets are not too large or if you can’t rely on importing other libraries.\n",
        "\n",
        "NumPy is a third-party library for numerical computing, optimized for working with single- and multi-dimensional arrays. Its primary type is the array type called ndarray. This library contains many routines for statistical analysis.\n",
        "\n",
        "SciPy is a third-party library for scientific computing based on NumPy. It offers additional functionality compared to NumPy, including scipy.stats for statistical analysis.\n",
        "\n"
      ],
      "id": "5b55d4ee"
    },
    {
      "cell_type": "markdown",
      "metadata": {
        "id": "b450a637"
      },
      "source": [
        "# Measures of Central Tendency\n",
        "The measures of central tendency show the central or middle values of datasets. There are several definitions of what’s considered to be the center of a dataset. In this tutorial, you’ll learn how to identify and calculate these measures of central tendency:\n",
        "\n",
        "Mean\n",
        "\n",
        "Weighted mean\n",
        "\n",
        "Geometric mean\n",
        "\n",
        "Harmonic mean\n",
        "\n",
        "Median\n",
        "\n",
        "Mode"
      ],
      "id": "b450a637"
    },
    {
      "cell_type": "code",
      "metadata": {
        "id": "52cfec78"
      },
      "source": [
        "import math\n",
        "import statistics\n",
        "import numpy as np\n",
        "import scipy.stats"
      ],
      "id": "52cfec78",
      "execution_count": 2,
      "outputs": []
    },
    {
      "cell_type": "code",
      "metadata": {
        "id": "eee2d883"
      },
      "source": [
        "x = [8.0, 1, 2.5, 4, 28.0]"
      ],
      "id": "eee2d883",
      "execution_count": 21,
      "outputs": []
    },
    {
      "cell_type": "markdown",
      "metadata": {
        "id": "3783ad91"
      },
      "source": [
        "# Mean"
      ],
      "id": "3783ad91"
    },
    {
      "cell_type": "code",
      "metadata": {
        "id": "4df0e128",
        "outputId": "2031d8c8-34ce-4eb4-f83c-db6f7145702a",
        "colab": {
          "base_uri": "https://localhost:8080/"
        }
      },
      "source": [
        "mean1 = sum(x) / len(x)\n",
        "mean1"
      ],
      "id": "4df0e128",
      "execution_count": 3,
      "outputs": [
        {
          "output_type": "execute_result",
          "data": {
            "text/plain": [
              "8.7"
            ]
          },
          "metadata": {},
          "execution_count": 3
        }
      ]
    },
    {
      "cell_type": "code",
      "metadata": {
        "id": "b76a44f5",
        "outputId": "be5b3fca-7345-47bf-aa72-94929074cc2e",
        "colab": {
          "base_uri": "https://localhost:8080/"
        }
      },
      "source": [
        "mean_ = statistics.mean(x)\n",
        "mean_"
      ],
      "id": "b76a44f5",
      "execution_count": 22,
      "outputs": [
        {
          "output_type": "execute_result",
          "data": {
            "text/plain": [
              "8.7"
            ]
          },
          "metadata": {},
          "execution_count": 22
        }
      ]
    },
    {
      "cell_type": "code",
      "metadata": {
        "id": "4dca10e7",
        "outputId": "6b550a17-b9fe-48ee-fc50-9b0f71135768",
        "colab": {
          "base_uri": "https://localhost:8080/",
          "height": 186
        }
      },
      "source": [
        "mean_ = statistics.fmean(x)\n",
        "mean_"
      ],
      "id": "4dca10e7",
      "execution_count": 5,
      "outputs": [
        {
          "output_type": "error",
          "ename": "AttributeError",
          "evalue": "ignored",
          "traceback": [
            "\u001b[0;31m---------------------------------------------------------------------------\u001b[0m",
            "\u001b[0;31mAttributeError\u001b[0m                            Traceback (most recent call last)",
            "\u001b[0;32m<ipython-input-5-64d722b4ddb4>\u001b[0m in \u001b[0;36m<module>\u001b[0;34m()\u001b[0m\n\u001b[0;32m----> 1\u001b[0;31m \u001b[0mmean_\u001b[0m \u001b[0;34m=\u001b[0m \u001b[0mstatistics\u001b[0m\u001b[0;34m.\u001b[0m\u001b[0mfmean\u001b[0m\u001b[0;34m(\u001b[0m\u001b[0mx\u001b[0m\u001b[0;34m)\u001b[0m\u001b[0;34m\u001b[0m\u001b[0;34m\u001b[0m\u001b[0m\n\u001b[0m\u001b[1;32m      2\u001b[0m \u001b[0mmean_\u001b[0m\u001b[0;34m\u001b[0m\u001b[0;34m\u001b[0m\u001b[0m\n",
            "\u001b[0;31mAttributeError\u001b[0m: module 'statistics' has no attribute 'fmean'"
          ]
        }
      ]
    },
    {
      "cell_type": "code",
      "metadata": {
        "id": "de407509",
        "outputId": "37f63af5-0e5f-4aa6-ed8f-e02646b7f6ae",
        "colab": {
          "base_uri": "https://localhost:8080/"
        }
      },
      "source": [
        "mean_ = np.mean(x)\n",
        "mean_"
      ],
      "id": "de407509",
      "execution_count": 23,
      "outputs": [
        {
          "output_type": "execute_result",
          "data": {
            "text/plain": [
              "8.7"
            ]
          },
          "metadata": {},
          "execution_count": 23
        }
      ]
    },
    {
      "cell_type": "markdown",
      "metadata": {
        "id": "d0cf8227"
      },
      "source": [
        "# Weighted Mean\n",
        "The weighted mean, also called the weighted arithmetic mean or weighted average, is a generalization of the arithmetic mean that enables you to define the relative contribution of each data point to the result.\n",
        "\n",
        "You define one weight 𝑤ᵢ for each data point 𝑥ᵢ of the dataset 𝑥, where 𝑖 = 1, 2, …, 𝑛 and 𝑛 is the number of items in 𝑥. Then, you multiply each data point with the corresponding weight, sum all the products, and divide the obtained sum with the sum of weights: Σᵢ(𝑤ᵢ𝑥ᵢ) / Σᵢ𝑤ᵢ."
      ],
      "id": "d0cf8227"
    },
    {
      "cell_type": "code",
      "metadata": {
        "id": "f6e14d84"
      },
      "source": [
        "x = [8.0, 1, 2.5, 4, 28.0]\n",
        "w = [0.1, 0.2, 0.3, 0.25, 0.15]"
      ],
      "id": "f6e14d84",
      "execution_count": 7,
      "outputs": []
    },
    {
      "cell_type": "code",
      "metadata": {
        "colab": {
          "base_uri": "https://localhost:8080/"
        },
        "id": "1941e9a2",
        "outputId": "9733baf5-3020-4222-96dd-0e83b194e0f5"
      },
      "source": [
        "wmean = sum(w[i] * x[i] for i in range(len(x))) / sum(w)\n",
        "wmean"
      ],
      "id": "1941e9a2",
      "execution_count": 8,
      "outputs": [
        {
          "output_type": "execute_result",
          "data": {
            "text/plain": [
              "6.95"
            ]
          },
          "metadata": {},
          "execution_count": 8
        }
      ]
    },
    {
      "cell_type": "code",
      "metadata": {
        "colab": {
          "base_uri": "https://localhost:8080/"
        },
        "id": "9bf398f8",
        "outputId": "290efd19-da6c-4ad9-83c4-f53a93c6e865"
      },
      "source": [
        "wmean = np.average(x, weights=w)\n",
        "wmean"
      ],
      "id": "9bf398f8",
      "execution_count": 9,
      "outputs": [
        {
          "output_type": "execute_result",
          "data": {
            "text/plain": [
              "6.95"
            ]
          },
          "metadata": {},
          "execution_count": 9
        }
      ]
    },
    {
      "cell_type": "markdown",
      "metadata": {
        "id": "544e2312"
      },
      "source": [
        "# Harmonic Mean\n",
        "The harmonic mean is the reciprocal of the mean of the reciprocals of all items in the dataset: 𝑛 / Σᵢ(1/𝑥ᵢ), where 𝑖 = 1, 2, …, 𝑛 and 𝑛 is the number of items in the dataset 𝑥. "
      ],
      "id": "544e2312"
    },
    {
      "cell_type": "markdown",
      "source": [
        "![Harmonic Mean.PNG](data:image/png;base64,iVBORw0KGgoAAAANSUhEUgAAAoYAAACeCAYAAACvkMumAAAAAXNSR0IArs4c6QAAAARnQU1BAACxjwv8YQUAAAAJcEhZcwAADsMAAA7DAcdvqGQAACI9SURBVHhe7Z178y1XXad5B8k7IP/NH1YJZdVMjc5YxFKwJoqEYTAwIjkZURTRHMELwYFEI6J4yRHGQYZAjsOIXEJyFBQZDDmCMuM1yEWYiEbkFiAkINecC3t4Ovv7S591Vu/da/dld/d+nqpPnfPr3nv1uq9Pr7W69yNWIiIiIiJfR2MoIiIiIhUaQxERERGp0BiKiIiISIXGUEREREQqNIYiIiIiUqExFBEREZEKjaGIiIiIVBwZw7/4q79Z/atv+uasvvfpz1jd/8AD609Kjl996W8Olk9Dhj01SCNpJc2S50tf+vLqBb/wS6tv+Dffuvq273ri6sP/eM/6zIX8yxe+sHrdrbevLv8PV66e+/zrV1/5ylfWZ3bjLX/09uqa7/yz/7M+sh+ir+LfbUwlzpu49dSbN5bjvhmyTXYJ+z3ve//qyd//A9W/fUD+Uw6Uh8ghc5ExfMefvKtqrHV97vOfX50/f379ScmhMewH6tpPPO8Fq1eefM36iKT81V3vqczOH9/5zvWRi/nABz+0+pbvuGL12Cc8uRrsuhpDzOizf/K61dXPfHZVRvukrTGcUpw3oTHcLeySG4Q2aAxFHuIiY9hXIzs0NIYyFm3a6oMPnln9/Yf/cfWFL36xMoVdjeHfvOe9q2/699+++p03vGl9ZH+07aumFOdNaAw1hiJTotgY/sM9/7T6sZ+6bvWN//Yx1ee/84lXrV77xjdVA1FAw/quJ//n1bEf/rFqZuNfX/641W2//5b12Yf52te+tnrXu//v6j9+3zVVWIT5nOtesPr4Jz55dP4Vt/zP6vvvee9DywUMbgxyT/vBZ60+/Zn7qs+8+8//cvX0H/rR6lrovzzr2tX7/+6D1ecDOp5nPeenq7jzGa71yze9bPWhu/9+9cwff+7RsRe+6JdX9332/vW3HkoLafzJn72higfxJL7Em2sHOfO2LX1tIexv/c7HVzMfhJFLY5t8iE74R5/zM9XyInHiM5+5776jc7/4qydWj//ep1Xn+MwfvO3t1SwyeRDHKO9z586tQ11Vs8lv++M7j9LJtYkHM1uRR/Xw43PkJ38/8LnPVZ+B3ECR5iPfe9lv3VyZnhy7ljVQNpQR57lWrqz5zAtufPFRfSBvbn/zH16QJxGHCCtXHilt8jHaaV2b2my0ly7GkHT90q+/tErnRz76sfXRZtrkD+3q+37gh1f/9ecf/lwur7/y1a+u/sctr1n9u8d+91FY1N9t6S6N87Y6xvmSfqak3MkLZncpo015QZrIR9IUcUzbT0r6nWi/0V+3SVeuTQLX5foRZ8qzXldJV2p403GmKextdShtB4RBWJDGK/0upPlC/aK/4EaCeOfgO2xNiDpC+ab9eYQb/SvhMoZ9+ctfXn/iQprSL7JPiowhgyjmhH0d3I1jzH7zla+uOpN6Y+L/hPXUa565uvvD/1B1PB/92MfXZx+GgRrDc/0vvqQ6/74PfLD6Dh0/+6MA0/K0Z/xI1QBZGrrzXX9WNXg6Tfjs/Q9UHdlLX/7K1Sc+eW91PcJ40tOuWX3q05+pPgM0POJEOFzrj97+jqOOg2Mf+eePrt781rdVxxhQohNJ08J3+TzxJv4B4dc7J2iTvjakcSfvKYP6ElmbfIhOiPJ6ze++oUrz6T99d5XW9Nwn7/1UZaa4bhzj2nS4/F3fs0WdId8inQwEGLD6oJCGT9154+2/X33v5TffcjSY5DpKbgr4HNcmbX/x13dV6frf7zi9/sSF7FrWsfQY9ZtrcU3KkKVZwLwRX9LHMdJBPqV50qbMUtrk45kzZyqjTtix7YNjTfRhDDFWDKAn/vsrjvKqibb5k7arSCvXqRs5Zvv47qtf89oqLNJMfvDdTX1VSZxhWx3btZ9pU+71vKCP4Ht8P+1jyL9Hfcu3VX0ueUEfSBpf9Cs3NabxrW+/o/pO5B9t4Xuu+v7Ve9//d9X5kn6j3iYxltxYcX3iEeVMvCOdpGsXY9imDqXtgGvyPfKBNs11Oc53STt5wNgREA7hRXlHOREe8c5xzz99pDKFGGvCpY6QfvoM+g4gHMzg6990qhovGfuecs0PVYYyB/F264xMja0Pn9QbNpWcY/UG9sUvfam6Q6Zyx11RdHT1z+X4rVedvGgg4DvctdU3FEfndvJ3Xld1sHRI9RnKrz74YNUpBIRBo+fuNaDj4a78Ax/6f9XfMWDmjl3zI9euPv8vDxk30kJY9UEoDN/rb/u99ZGHwqeDo6ML2qZvG2ncgXilx7blQ3TClBflVid3jnKn/HPHSBtg6Oi0r3zq01f3furT1TEgXsQv8igXfuR3/VhuoGBwT8PfxK5lTZlQNvVOnGty7UgvMPicPXt2/dfDnyGeQdsyC9rmI6SD6yYinYj/7wLmLExKlP+ma7fJn1wfQZjU1zhGf0K/ktbX337t67emvzTOberYLv0MbCp3yPUxabljhJhBSw0meXHFk55amckU4vszL/z5i/IvpW2/UW+TmKTHfs9/qq7fBOmqjx9AGutllwsb2tShNCwgH8iP+s0maScPyD/ysamtkW7CI95NkFcRLpB+8oH8AL5LekiXyFzZ+vAJnVDcjeYaOtCo642BzzGVzh6nJqKjqw/MEJ34qbe8dX3k4cGN+GG0WM7eRK7DSOMIbY7l0sw5PlPvzNLvlaRvG4TNHXx92TOXxpT0MxFvOsV65wa5NLU51mQ80s81XZvzHOc8pN+Lwa3E2KRhQptjzKakpj3SRxyIS440zsD/S8qsbT7CpnBSmsJtC+0fM/L8n3tRdTMW9bfNtYNcGnJ9RITNOch9D7alvzTOu9QxyMWjtNyhTR9DH0JfEuYmIMzUnAbkA7N/af5tI41vrhy4XmpmU3LpahN2jtzn0rAgbu5oy3X4HnlBnjS1ibT+tSFNI3FhEoMZQGYi62UlMheKlpJzDR1odDRaGi80fa5ONE6umVPaONl7xfEX/9pvXHB3y34Slg5iD1Jd9bSkcYQ2x3JpyXVS6fdK07eJXDzT8mqTD7l4B7lzbY41dbLp55quzd8c5zy0DX8TaZjQ5hhlkuZdKK7PTRJ7iFiOSz8TcYbc9dIyq9M2H2FTOCm75F+dWL6MJbwYPJuu3TZ/cu0qwo62kUs7bEt/aZzb5FGXfmZbfNv0MfF3eu1QLuym/Kuza7+xLU2QS1f6vVzYbetQLg5xLCeuw/WayjutfynV/uPnv/BoW0qonkbizlIzS84YZ87z/5xxF5kqezOGcZe+bZkDYm9j2giBJSNmEVl6iZmoXFrSOEKbY206bUi/V5K+beTimaaxTT7k4h3kzrU51tTJpp9rujZ/c5zz0Db8TaRhQptjzOJuWvIDliaZ6WKJL2bS0zhD7nppedRpm4+wKZyUXfIvYLaNWTf2SLFURlzu+tv3VelnZSEXXtv8ybUr/s+xGJhz34NN6d8lzm3yqEs/sym+0KaPidm/G1/y60f5uo2m/Kuza7+xLU2QS1ebsNvWoVwcYiazvkUhpam80/pXh3hgoHno8WMf/8T66Oaxjvz8xL33VnsQd2l/IvuiyBiW7DFsaix12C9Cp1Tfg5dC4+KpLsK74/Q7q6ed63sM6SjSRpdLC5+jY6GDCdocIy10NDH7AHSi9f0/kAurTfrakAs7TSOf2ZYPfJ9w+GxK7lybY5RPyR7D9Nr8zXHOQ+5zbfZ/1UnDhDbHYlBp2igO5GVat3Nxzl0vLY86bfMRNoWT0jQItiEGSq6VU24AbZs/uT4irhfhxh7D+uZ+4DzXz6V/lzjDtjpG3HftZ3Kfq0Oc0mXZtNzjRjPdY7iJNjenbdKVK782ewxjr2I9Xen+0FzYnGtTh9J4QsSrvscwJdpa+uAQ4RDfXB2JdlS/PvDZNK4plGFaJ0SmTJExjCeE4+k5nsxqeip5W2OBeBLw2p/+2apBR3g0wOj8eEqOsHiSlQZN2OwhiaeSuePlPMaNhse+Dp40S9NCg04bZ5tjXI+wIs1NTwzS+EkLnSH7gYhrm/TRYfNQDb9Qwas5cuTimZZXm3zgOOGknRvkzrU9xg0DZRJP+FHu6dO0Tdfmb45zHnKfi3ysP93Nnfv/et0bL9hWEKRhQptjlAlPaGLmqV8cZ5bpqmM/ePQUJ2VO2bOHiPJkNjuecK7HOXe9tMxS2uQjbAunziZjyP4nXiPFU5ttzQbxID5N126bP7k+IsKu9yXUa/qXeKo2nsRtm37YFmfYVse69DOc3xTfeh9Df9fUx/AQHnkR9YPP/dyLf2X1khP/rTKBOeLBvfqTzBiieNq6TbrCoJMf9GPUI27MuUHnu/Wnf3ntzT9/PV4Q+U4d5v/xFO+2sNvWoQifp7Lv++xnq3KKePFZvsN3eVKYV6fV32JAeut5SXmT/8StXv+CmDGkbOkLyCviS99OHIgLZfBrL3t59WozzvGZeNo59rum0O5Iv08ly5QoMobQ9j2G0Vg2gXlilqb+Di0GYTovzjFLwB0vZhRTCjF4I/7PHhl+HoyOgPjw7zOe/RPVv/W05DrsNsdIC4P1s5/7vKNr5N4xRgdEZ04aYhDelj6gc+cputwDIUGbwaZNPvB9wql3rkHuXNtjdMht32OYXpu/Oc55yH2OMMizCJ800aGT5hxpmND2GDMImIPIx29//JOq9+iFaWeAeMPtv1cdj7Ty/jbKsB7nXNhpmaW0yUfYFk6dTcYwHmioz/ZvIwbjpmu3zZ9cHxFh1wfm9D2G/BuGpE36YVucYVsd69LPcH5TeZFefqEGc7Tp/Zlp/eCzmK5N70ikPNL39dXrc9t0UQfj/aZRPnyXPIrvpnGOPI3vcW1MHHHZFHbbOsTnuKnm+vU8592TL3vFzRfUGUxdvb9I84Uwnnf9L6ye+NSrL6h/deiredVYlBHhkv/MUEY9Tvch8i8PDNXfdViHOBP3erpE9s2RMZQ8dBLpANYnTU/RiQxN3JTUX8UjIiKHjcZwC0MbQwwhe4nYUyQyJnFTsmmjvoiIHBYawy0MbQyZrWFvS9s9XiJ9wU1J/eW8IiIiGsMtsP/lFa/+7QueXusTHj6Jh1VExoQ9h9yQsHdNREQENIYiIiIiUqExFBEREZEKjaGIiIiIVGgMRURERKRCYygiIiIiFRpDEREREanQGIqIiIhIhcZQRERERCo0hiIiIiJSoTEUERERkQqNoYiIiIhUaAxFREREpEJjKCIiIiIVG43h+fPnV2fPnl2dOXNm9eCDDyqllFJKqQkJj4ZXw7P1QdYYErhmUCmllFJqPsK7dTWIFxnDc+fOZS+mlFJKKaWmL7zcrlxgDDWFSimllFLz167m8MgYMvWYC1gppZRSSs1PuywrHxlD9xQqpZRSSi1HeLtSKmPobKFSSiml1PJUOmtYGUMec84FppRSSiml5is8XgmVMXQZWSmllFJqeSpdTq6MYS4gpZRSSik1f5WgMVRKKaWUWrBK0BgqpZRSSi1YJWgMlVJKKaUWrBI0hkoppZRSC1YJGkOllFJKqQWrBI2hUkoppdSCVYLGUCmllFJqwSpBY6iUUkoptWCVoDFUSimllFqwStAYKqWUUkotWCUMYgxFZLncfvvtq1tuuWX9l4hIf+Q8hequEjSGIrKVO++8c3X8+PHV1VdfvXrEIx6xuv7669dnRET6I+cpVHeVoDEUkSI0hiIyFDlPobqrBI2hiBShMRSRoch5CtVdJWgMRaQIjaGIDEXOU6juKkFjWMADDzywuuGGG1aPecxj1kekDvnDPrQnPOEJ6yNS55577lldeeWVszdVGkMRGYqcp1DdVYLGsAVsvL/22msrPepRj9IYJpA/PJRg/uSJ/MFMLcFUaQxFZChynkJ1VwmTNIa8CuORj3xkNcMyNTA9Gp9mzJ/NtDVV1H3awF133bU+0g1mc0+fPt1am66rMRSRoch5CtVdJUzOGDIgXXLJJb0NiH2j8dmM+bOZElPVZ1sgDK7bVjfddNP6mxejMRSRoch5CtVdJUzKGDJ4XXrppTsNhGPNLs7Z+JCvLGsOifmzmVJTxez51G6UNIbTgfrKDK/Mk5jJn+Lq2L7IeQrVXSVMxhiGKSz9RQW+9+hHP3o0MzJn48P+v6EH9LnmDx30ZZddNnj+7GKq2LtJ2yCOU0BjuF8wEdSJ2LeKuHk4duyYBmMm8OtB9JNRfpQlZcjDjYdOzlOo7iphMsYQ00LjaAPmkac740EHBqqxzMhcjQ+dzxgD+lzzh4F2jPzZ9RrU9csvv3z9134hDeSXjA83B/ST6U0ChhBjseuKi4wHpjA31rF9g7aFwT9kcp5CdVcJkzCGDDJ0am1nROj4ovNjKYXGtMmM0GlyJ1aiJoYyPpiFoUwJeYWxaDIlnM/lwSY1MWT+bNr31gXqEHFuyh/O5/KgSZtmvZuusY0Y+IeqI9sgTbRTFGVMXBjgNCLjsck8RB3WtE8bygkDj0Gsw/hH+aFDblM5T6G6q4S9G8MwdqVLyEEbY0iD43MlaiIGxb5hkB1q0Oe9gnRC5FPuGoecP6Sd/CFNTfmDKUvTv0mbOvWma7SB7/F9lwsPl6gDKIV6zPEh2p/0Bzd4lFPufa9RtruOh0sg5ylUd5Wwd2PIKzm6dGQMxGN2hnMzPswwhGEhn4a4Rp255Q+zKxi5sfKnyzUwsbSXqSwpy/hQB6iz6WwT0O6oX84YThvKLvqdOpQt5Yfojw6VnKdQ3VXCXo0hd0VdG0EM6EOYkRxzMj7MLMUgoTG8GPIkwhwrf7peI9pMzhjI4VI3Fc4oz5No22ONZVMl5ylUd5WwN2NIR8Y+i66NYExjSJx5Ahrx/z4ZwviwVBHxHMP4RJnOJX/qG8DHyB8GbK7Bg1NdYNaQJ6hFAm4AqVuHvAQ5Z+gvadPsBT/0Pbs5T6G6q4S9GUMGYDqyrjMfYxhDGmoYk1R9NeIIry9YQq7n7ZDGh+tE/FNNNX/SuO0jf3Zd8uO7fbQdmTfU2ZMnT1YPotD/8bfMB8wg7zDkgTVupnNPmx8iOU+huquEvRlDZj1QV8YwhmMQZqEPmJlKX4cwpPEZgz7zB0OYmrI55Q+DB3F1r+FhQ51F1Fn60uPHj2ssZgRlRfkxy0t/xGzhiRMn1mcPl5ynUN1Vwl6MITMdDGy7zpjUiQFdY/gw9SXkYE7GJ4f5cyEYf+Lb14yszBtuBnnaleVI68Q8iVcRdd1qMndynkJ1Vwl7MYbxWoU+NknPxRjGHqAuamNauPvMLTFO3fhEneiiNu85JP3kRcrcjGGfN1eyDKKPYVlS5gkzv3Pqh4Yg5ylUd5UwujGMDfh9LCPDXIzhNugIunYGzIKlS8jB3IxPSh/5k1tCDuaYPzFDJAJRhxH/l/nBOEb58RDfoZLzFKq7ShjdGMYj+X3NdGgMHwbjQz7kFHei/BvH5rTk1Ef+UPfqeVJXLn+mTsyyunR4GHDjx77SpuXiujGc0w3OIUEZYfqa9gdTblGG6XaXQyHnKVR3lTC6MYy9UX3d0WoM2xEdzlwHDPPnYmJPksvJh8E241c/72trpkl9y0xuDIztAOhQyXkK1V0ljG4M4+eA+kJj2I45Gp865s/FMGtEnN1TdhhEedOH5mYM40aB84c62zR1op9pGq/iN+0xkIdKzlOo7iphVGMYHRuVvy9iE/7cB8exjM9cZ5eGzp+4U59b/hBnpBE4DDAMTbOBsR2izUNYsh/YY0855dpr3fj38WDmXMl5CtVdJYxqDOOOtukBibbQMbJHA8XAiNh7E8fnxlDGhzvTNJ8w0XPLozHzZ051iPgT59yylCwPDAXmkJdanzp1qvobQ8ErTqgHmsLpQ3kxOcKLrXnBNTDBwfiFaczNBh8SOU+huquEUY1hzMoMOfMzV4YyPkvB/MljmzpMMA+UOTfZ1AEM4SHPMs0RzCBlyM0d/+ZeM7Y0mNTBEPMydv7NmeCcp1DdVcKoxtDZjWboGBzcmyFvnA25mL5m4UVEhgIDGAaY8R8THA/iMNtdX1rPeQrVXSWMagypBMg724uhYeT2nchDUGfMn4tZysNXIrJc6J9ys4NhDutbd3KeQnVXCaMZQwb1MIYi0g8YZtuViEwVVjWafuav3n/FSmLOU6juKmE0YxgzGzxxJSL9oTEUkakSs4JNbw6JV/TEVqqcp1DdVcLoxtAlL5F+CWN46E8zisj0iB+1aJoUimcPwhvkPIXqrhJGM4axSV5jKNIv8f66WIoREZkKbCNjNrDpxjX6L2cMh1UJoxlDCl1jKNI/ccetMRSROeEew/FUwujG0NdqiPRLGMM5vAeNWYN4gfiuatrILsI7HXN1pkSH8DvT9Bm5tJeoj60rscxc9wU5T6G6q4TRjWFMF4tIP4QxnEvbYmagi9xLKU0wA5WrMyU6hNdi0YZyaS9RV4gD/RYPn9TzPOcpVHeVMCtjeNtttym1WO3K3Izh2OTyWs1HUycX531oTmAEeUo5NYWQ8xSqu0qYlTF83OMep9RitSsaw83ceOON2fxW09dTnvKUdSlOl1y8x9bNN9+8js084BU2KDc7m/MUqrtKcClZZOZoDEVkLrCfcNOzBjlPobqrhNGNIXcJItIfYQznsGneh09kSPp4+GQOD3F1hT4jl/YSsZ+zFMqnyRTGb+HnPIXqrhJGN4ZUSBHpjzCGfWwIHxqWjtJN7KXq++ETjMAug9xUiAF1jpDvfRoxHz5pxz4ePuHGtckUEl6seOQ8hequEjSGIjMnflJql876UGFgvOGGG45+rmtOeYdxOXnyZBX/KPs5gXk7ceLE6tixY9XLjR0Tlg+mkFnG06dPZ8W5aIM5T6G6q4TRjCGFrjEU6R/alcawDIxhzJrM0RgSXwxW3HDPiZjVIx2MB44Jy4Z2Fn3UJlEvIOcpVHeVMLoxbPohbRHZjehYD2EJrG/maAzrzNEY1tEYLh/2FUY5b1KQ8xSqu0oYzRjW7xpkujBAskTF1D6b/Pl/3MnJ9MAM2q52R2O4X1JTsCSoU5iiLrDVgW0D9Zs+/n/q1KnOYU+VnKdQ3VXCaMYQYgBzZmOa0NEw0ET58C+bhSmzQ/iZqDkSxoa9WlKOxnC/LM0YMgGCaeOmmnLpmjbCyOmSSy5ZbJ+c8xSqu0oY1Ri6SX668GQjy/zp7CDmMDojOj2ZFgwOlM1SZ12GRmO4X5ZkDGmLzPBRJn21S8JIxc36kldxcp5CdVcJoxrDeALwEN4TNTeibHJ7QOncOLfUpYs5E8aAf6UcjeF+WZIxrBP1qmva+D4354R3KFt6cp5CdVcJoxpDB7HpgumjbHLmL4yh5TY9vNnqxtDGkMF8yBuqoY0hM19D1i2N4WaWmDfbyHkK1V0ljGoM+2osMi6U2ZCDp+wOewspG5f5d2NoY0i4Q/Z3QxtDwh/yhpC8WeJ40NdYd4hjZc5TqO4qYVRjCDSWSy+9dP2XTJ3YK7Ppty1lPzAbRdn44MnuaAw3ozHcjb6NIcvJ8TLopS8p5zyF6q4SRjeGVHQajDMc04fODRPv3sJpwhIfbUnTvjsaw81oDHejT2NI/tMHEyZtnoc4+dWYeHvE0sh5CtVdJYxuDKMjm/Pvey4Z7kYpIzokyon3GC61A5o7sS/U/YXlMBMe7+skDy+77LLqb9QnQxlD2ihx5caN+Mc7R/s2uFwH9Ql9DHHF3BB30nD8+PHq2FJmw/oyhryWJp1EoT9mlYC6u0RynkJ1VwmjG8NY/mLTvEwfZqPouBlIZVrE/kKN+3QZyhiOxRDG8BDoyxg2razFTeES++Wcp1DdVcLoxhDifYYOaPMgDIgzU9OBAYMy8QZr2mgMD5O+jGETsY1kznWriZynUN1Vwl6MIcvIVGpnoeZB3J360NB0YLCmTDTr00ZjeJgMbQwjfLQ0cp5CdVcJezGGzBRSoZe6R2KOYNL5Tc4cYeQRHZLsH2ZxfRq5HLZGXHXVVVt14403rr+xGWZu6ceaxAvjuaHKnQuxv64tubjmdPfdd6+/sRnadi5OIfZeoty5UNubE34qLhfXnOZOV2PIlivynfqTW1nTGKpSlbAXYwh00FTqpWw2njOYwuhkcp18/bzGcP/EMpIzOeW86lWvaq02MGhjrmJmLRX9HAY+dy5U0qZy8cyprTHE2ObiFMLYoNw5RNrb9uEYw1xcc5o7XY1h3fjl9hnGeR5OWRo5T6G6q4S9GcN4CMVXbeyf+oxgbnmfASDOa+T3D4MNA4J7dKcPA/iu5mAKhAGUMkqMYa5PxQyyF79pu1X0yUscP3OeQnVXCXszhhCzhg5w+yVMelMnROe21E5obsSA42DdH9T/ofqgsYwhRoJr9c1YxpBZ8CXddLY1hrfeemv1uSuuuGJ95GF4sKypXmIauTlc4o16zlOo7iphr8aQSk3l1nDsH0whHVHa0cQyMh2RBn7/MNA4W9gd8o9fkYh3AQ5hqmAsY0j7HMLAjWEMMbX0MUOVwVjQd8avk/BeSdJE3WLvdhxPue6666rPofvvv3999CHIF+pO2ifHhErTjfzcyXkK1V0l7NUYAp0OlXyJdz5zg44Zc0hnxIZ4OrfYHyX7J2YhljogjAl5yBaKuPGZszGMPnSIdkqYQ7d/8mfIMhgL4h/51aQc3Jzccccd678uBHNIn8xDPvTJPJDC3xxfKjlPobqrhL0bQ+Bul4ov00GjPj0w6QwK0h9htudqDDEIGI65GkPMeexxnrsxHJolm8E6OU+huquESRhDKjzLY3QQInIxDM4uIffPnI0hdSG24czRGJI39PlDl4HMi5ynUN1VwiSMIbCkw8B3KHdFIm1x4ByOofOWcIcyhhi2mNmfmzGsm1rrt9TJeQrVXSVMxhgCHUXTCz1FDhEGfn+rejiGNiX0ZUP8Og3xra+wDGUMuc4QN+t1Uzt0Gci8yHkK1V0lTMoYAubQ/YYiD5kKbpQ0hcMxR1NSn20LhjKGQ4BRrtdpjaHUyXkK1V0lTM4YAp3esWPH1n+JHB5hCucy2M+VOZoS+sd0VWUuxjBnajWGUifnKVR3lTBJYwgsk6Sdn8ihwDKbM4XDMzdTwmwbKyq84qQu0hDHp5wWTCGvXanHnUkA4s+//O0bEQ6bnKdQ3VXCZI2hiMjQzM0YYpqIayrSgOni/1M2VuxXTOMer6uJJ5SdEDhscp5CdVcJGkMROVgwInMyhk2QhrluO2AWdAllIP2Q8xSqu0rQGIrIwcHMFT9RxrImpoRf+Wn62bIpg5k6ceJElQb2pBL/uSzFMjNIfOPn4ygL/nbG8LDJeQrVXSVoDEXk4MgtaYbmRC7+czKGufhrDA+bnKdQ3VXCIMZQKaWUUkpNQyVoDJVSSimlFqwSNIZKKaWUUgtWCRpDpZRSSqkFqwSNoVJKKaXUglWCxlAppZRSasEqQWOolFJKKbVglaAxVEoppZRasErQGCqllFJKLVglaAyVUkoppRasEjSGSimllFILVgmVMTxz5kw2IKWUUkopNV/h8UqojOHZs2ezgSmllFJKqfkKj1dCZQzPnz+fDUwppZRSSs1XeLwSKmMILicrpZRSSi1HpcvIcGQMnTVUSimllFqOSmcL4cgYwrlz57IBK6WUUkqp+QhPtwsXGEPQHCqllFJKzVe7mkK4yBgCU4/uOVRKKaWUmo/wbrssH9fJGsOAwHnMWZOolFJKKTU94dHwal0NYbDRGIqIiIjI4aAxFBEREZEKjaGIiIiIVGgMRURERKRCYygiIiIiFRpDEREREanQGIqIiIjI11mt/j/vNQ9pT6ruXAAAAABJRU5ErkJggg==)"
      ],
      "metadata": {
        "id": "AqYY0Y6UpZdS"
      },
      "id": "AqYY0Y6UpZdS"
    },
    {
      "cell_type": "code",
      "metadata": {
        "id": "141ec991",
        "outputId": "77dc7941-540e-4d7a-9013-ddbf66c05f10",
        "colab": {
          "base_uri": "https://localhost:8080/"
        }
      },
      "source": [
        "hmean = len(x) / sum(1 / item for item in x)\n",
        "hmean"
      ],
      "id": "141ec991",
      "execution_count": 10,
      "outputs": [
        {
          "output_type": "execute_result",
          "data": {
            "text/plain": [
              "2.7613412228796843"
            ]
          },
          "metadata": {},
          "execution_count": 10
        }
      ]
    },
    {
      "cell_type": "code",
      "metadata": {
        "id": "a92ab7d6",
        "outputId": "ccf22a60-dd78-4e8b-8f39-3822ba897ffa",
        "colab": {
          "base_uri": "https://localhost:8080/"
        }
      },
      "source": [
        "hmean = statistics.harmonic_mean(x)\n",
        "hmean"
      ],
      "id": "a92ab7d6",
      "execution_count": 11,
      "outputs": [
        {
          "output_type": "execute_result",
          "data": {
            "text/plain": [
              "2.7613412228796843"
            ]
          },
          "metadata": {},
          "execution_count": 11
        }
      ]
    },
    {
      "cell_type": "code",
      "metadata": {
        "id": "8bd45116",
        "outputId": "fe5116a6-047a-4d0d-8fb5-9c185c3d9f0d",
        "colab": {
          "base_uri": "https://localhost:8080/"
        }
      },
      "source": [
        "scipy.stats.hmean(x)"
      ],
      "id": "8bd45116",
      "execution_count": 12,
      "outputs": [
        {
          "output_type": "execute_result",
          "data": {
            "text/plain": [
              "2.7613412228796843"
            ]
          },
          "metadata": {},
          "execution_count": 12
        }
      ]
    },
    {
      "cell_type": "markdown",
      "metadata": {
        "id": "dcfb50d3"
      },
      "source": [
        "# Geometric Mean\n",
        "The geometric mean is the 𝑛-th root of the product of all 𝑛 elements 𝑥ᵢ in a dataset 𝑥: ⁿ√(Πᵢ𝑥ᵢ), where 𝑖 = 1, 2, …, 𝑛.\n",
        "\n",
        "\n",
        "\n",
        "Given the values:\n",
        "8, 16, 22, 12, 41\n",
        "\n",
        "multiplyValues = 8 x 16 x 22 x 12 x 41\n",
        "\n",
        "n = 5\n",
        "\n",
        "geometricMean = (multiplyValues)**(1/n)"
      ],
      "id": "dcfb50d3"
    },
    {
      "cell_type": "code",
      "metadata": {
        "id": "f80c7a7b"
      },
      "source": [
        "gmean = 1\n",
        "for item in x:\n",
        "    gmean *= item"
      ],
      "id": "f80c7a7b",
      "execution_count": 13,
      "outputs": []
    },
    {
      "cell_type": "code",
      "metadata": {
        "id": "8a4278e0",
        "outputId": "65b1dbf6-dd09-406f-92a6-dffa19bc3e8c",
        "colab": {
          "base_uri": "https://localhost:8080/"
        }
      },
      "source": [
        "gmean **= 1 / len(x)\n",
        "gmean"
      ],
      "id": "8a4278e0",
      "execution_count": 14,
      "outputs": [
        {
          "output_type": "execute_result",
          "data": {
            "text/plain": [
              "4.677885674856041"
            ]
          },
          "metadata": {},
          "execution_count": 14
        }
      ]
    },
    {
      "cell_type": "code",
      "metadata": {
        "id": "1c9bb7be",
        "outputId": "9934b67a-ada6-4839-b82a-b55d395f9067",
        "colab": {
          "base_uri": "https://localhost:8080/",
          "height": 186
        }
      },
      "source": [
        "gmean = statistics.geometric_mean(x)\n",
        "gmean"
      ],
      "id": "1c9bb7be",
      "execution_count": 15,
      "outputs": [
        {
          "output_type": "error",
          "ename": "AttributeError",
          "evalue": "ignored",
          "traceback": [
            "\u001b[0;31m---------------------------------------------------------------------------\u001b[0m",
            "\u001b[0;31mAttributeError\u001b[0m                            Traceback (most recent call last)",
            "\u001b[0;32m<ipython-input-15-3fc252cfe1c6>\u001b[0m in \u001b[0;36m<module>\u001b[0;34m()\u001b[0m\n\u001b[0;32m----> 1\u001b[0;31m \u001b[0mgmean\u001b[0m \u001b[0;34m=\u001b[0m \u001b[0mstatistics\u001b[0m\u001b[0;34m.\u001b[0m\u001b[0mgeometric_mean\u001b[0m\u001b[0;34m(\u001b[0m\u001b[0mx\u001b[0m\u001b[0;34m)\u001b[0m\u001b[0;34m\u001b[0m\u001b[0;34m\u001b[0m\u001b[0m\n\u001b[0m\u001b[1;32m      2\u001b[0m \u001b[0mgmean\u001b[0m\u001b[0;34m\u001b[0m\u001b[0;34m\u001b[0m\u001b[0m\n",
            "\u001b[0;31mAttributeError\u001b[0m: module 'statistics' has no attribute 'geometric_mean'"
          ]
        }
      ]
    },
    {
      "cell_type": "code",
      "metadata": {
        "id": "0cf2fb51",
        "outputId": "30794d15-cb9e-4388-e2f5-f9468b10a918",
        "colab": {
          "base_uri": "https://localhost:8080/"
        }
      },
      "source": [
        "scipy.stats.gmean(x)"
      ],
      "id": "0cf2fb51",
      "execution_count": 16,
      "outputs": [
        {
          "output_type": "execute_result",
          "data": {
            "text/plain": [
              "4.67788567485604"
            ]
          },
          "metadata": {},
          "execution_count": 16
        }
      ]
    },
    {
      "cell_type": "markdown",
      "metadata": {
        "id": "e9309618"
      },
      "source": [
        "# Median\n",
        "The sample median is the middle element of a sorted dataset. The dataset can be sorted in increasing or decreasing order. If the number of elements 𝑛 of the dataset is odd, then the median is the value at the middle position: 0.5(𝑛 + 1). If 𝑛 is even, then the median is the arithmetic mean of the two values in the middle, that is, the items at the positions 0.5𝑛 and 0.5𝑛 + 1."
      ],
      "id": "e9309618"
    },
    {
      "cell_type": "markdown",
      "source": [
        "Consider the following data points.\n",
        "\n",
        "17, 16, 21, 18, 15, 17, 21, 19, 11, 23\n",
        "\n",
        "To calculate Median, lets arrange the data in ascending order.\n",
        "\n",
        "11, 15, 16, 17, 17, 18, 19, 21, 21, 23\n",
        "\n",
        "Since the number of observations is even (10), median is given by the average of the two middle observations (5th and 6th here).\n"
      ],
      "metadata": {
        "id": "tkirWis7sB7t"
      },
      "id": "tkirWis7sB7t"
    },
    {
      "cell_type": "markdown",
      "source": [
        "![Median.PNG](data:image/png;base64,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)"
      ],
      "metadata": {
        "id": "3mmUfYF5saPt"
      },
      "id": "3mmUfYF5saPt"
    },
    {
      "cell_type": "code",
      "metadata": {
        "id": "714530ef",
        "outputId": "e7f13a34-7225-4b80-d260-7c0df32e44c6",
        "colab": {
          "base_uri": "https://localhost:8080/"
        }
      },
      "source": [
        "median_ = statistics.median(x)\n",
        "median_"
      ],
      "id": "714530ef",
      "execution_count": 17,
      "outputs": [
        {
          "output_type": "execute_result",
          "data": {
            "text/plain": [
              "4"
            ]
          },
          "metadata": {},
          "execution_count": 17
        }
      ]
    },
    {
      "cell_type": "code",
      "metadata": {
        "id": "f48fdb15",
        "outputId": "fa55b6ca-d867-490f-d66e-d18be528f953",
        "colab": {
          "base_uri": "https://localhost:8080/"
        }
      },
      "source": [
        "median_ = np.median(x)\n",
        "median_\n"
      ],
      "id": "f48fdb15",
      "execution_count": 18,
      "outputs": [
        {
          "output_type": "execute_result",
          "data": {
            "text/plain": [
              "4.0"
            ]
          },
          "metadata": {},
          "execution_count": 18
        }
      ]
    },
    {
      "cell_type": "markdown",
      "metadata": {
        "id": "ee59aa62"
      },
      "source": [
        "# Mode\n",
        "The sample mode is the value in the dataset that occurs most frequently. \n",
        "\n",
        "Mode : Mode is the number which has the maximum frequency in the entire data set, or in other words,mode is the number that appears the maximum number of times. A data can have one or more than one mode.\n",
        "\n",
        "* If there is only one number that appears maximum number of times, the data has one mode, and is called **Uni-modal.**\n",
        "* If there are two numbers that appear maximum number of times, the data has two modes, and is called **Bi-modal.**\n",
        "* If there are more than two numbers that appear maximum number of times, the data has more than two modes, and is called **Multi-modal.**"
      ],
      "id": "ee59aa62"
    },
    {
      "cell_type": "code",
      "metadata": {
        "id": "37dcc5ba",
        "outputId": "9d7717de-2716-40f3-f3a8-80ee51bb7557",
        "colab": {
          "base_uri": "https://localhost:8080/",
          "height": 307
        }
      },
      "source": [
        "mode_ = statistics.mode(x)\n",
        "mode_\n"
      ],
      "id": "37dcc5ba",
      "execution_count": 19,
      "outputs": [
        {
          "output_type": "error",
          "ename": "StatisticsError",
          "evalue": "ignored",
          "traceback": [
            "\u001b[0;31m---------------------------------------------------------------------------\u001b[0m",
            "\u001b[0;31mStatisticsError\u001b[0m                           Traceback (most recent call last)",
            "\u001b[0;32m<ipython-input-19-5f6a12d7b107>\u001b[0m in \u001b[0;36m<module>\u001b[0;34m()\u001b[0m\n\u001b[0;32m----> 1\u001b[0;31m \u001b[0mmode_\u001b[0m \u001b[0;34m=\u001b[0m \u001b[0mstatistics\u001b[0m\u001b[0;34m.\u001b[0m\u001b[0mmode\u001b[0m\u001b[0;34m(\u001b[0m\u001b[0mx\u001b[0m\u001b[0;34m)\u001b[0m\u001b[0;34m\u001b[0m\u001b[0;34m\u001b[0m\u001b[0m\n\u001b[0m\u001b[1;32m      2\u001b[0m \u001b[0mmode_\u001b[0m\u001b[0;34m\u001b[0m\u001b[0;34m\u001b[0m\u001b[0m\n",
            "\u001b[0;32m/usr/lib/python3.7/statistics.py\u001b[0m in \u001b[0;36mmode\u001b[0;34m(data)\u001b[0m\n\u001b[1;32m    504\u001b[0m     \u001b[0;32melif\u001b[0m \u001b[0mtable\u001b[0m\u001b[0;34m:\u001b[0m\u001b[0;34m\u001b[0m\u001b[0;34m\u001b[0m\u001b[0m\n\u001b[1;32m    505\u001b[0m         raise StatisticsError(\n\u001b[0;32m--> 506\u001b[0;31m                 \u001b[0;34m'no unique mode; found %d equally common values'\u001b[0m \u001b[0;34m%\u001b[0m \u001b[0mlen\u001b[0m\u001b[0;34m(\u001b[0m\u001b[0mtable\u001b[0m\u001b[0;34m)\u001b[0m\u001b[0;34m\u001b[0m\u001b[0;34m\u001b[0m\u001b[0m\n\u001b[0m\u001b[1;32m    507\u001b[0m                 )\n\u001b[1;32m    508\u001b[0m     \u001b[0;32melse\u001b[0m\u001b[0;34m:\u001b[0m\u001b[0;34m\u001b[0m\u001b[0;34m\u001b[0m\u001b[0m\n",
            "\u001b[0;31mStatisticsError\u001b[0m: no unique mode; found 5 equally common values"
          ]
        }
      ]
    },
    {
      "cell_type": "code",
      "metadata": {
        "id": "9854bd42",
        "outputId": "aec06215-dee6-4c12-f32a-0371a20a197d",
        "colab": {
          "base_uri": "https://localhost:8080/",
          "height": 186
        }
      },
      "source": [
        "mode_ = statistics.multimode(x)\n",
        "mode_"
      ],
      "id": "9854bd42",
      "execution_count": 20,
      "outputs": [
        {
          "output_type": "error",
          "ename": "AttributeError",
          "evalue": "ignored",
          "traceback": [
            "\u001b[0;31m---------------------------------------------------------------------------\u001b[0m",
            "\u001b[0;31mAttributeError\u001b[0m                            Traceback (most recent call last)",
            "\u001b[0;32m<ipython-input-20-8c9be2779bfb>\u001b[0m in \u001b[0;36m<module>\u001b[0;34m()\u001b[0m\n\u001b[0;32m----> 1\u001b[0;31m \u001b[0mmode_\u001b[0m \u001b[0;34m=\u001b[0m \u001b[0mstatistics\u001b[0m\u001b[0;34m.\u001b[0m\u001b[0mmultimode\u001b[0m\u001b[0;34m(\u001b[0m\u001b[0mx\u001b[0m\u001b[0;34m)\u001b[0m\u001b[0;34m\u001b[0m\u001b[0;34m\u001b[0m\u001b[0m\n\u001b[0m\u001b[1;32m      2\u001b[0m \u001b[0mmode_\u001b[0m\u001b[0;34m\u001b[0m\u001b[0;34m\u001b[0m\u001b[0m\n",
            "\u001b[0;31mAttributeError\u001b[0m: module 'statistics' has no attribute 'multimode'"
          ]
        }
      ]
    },
    {
      "cell_type": "code",
      "metadata": {
        "id": "51007123",
        "outputId": "dafb54aa-01f0-434d-fcd4-e435a1fb232f",
        "colab": {
          "base_uri": "https://localhost:8080/"
        }
      },
      "source": [
        "mode_ = scipy.stats.mode(x)\n",
        "mode_\n"
      ],
      "id": "51007123",
      "execution_count": 21,
      "outputs": [
        {
          "output_type": "execute_result",
          "data": {
            "text/plain": [
              "ModeResult(mode=array([1.]), count=array([1]))"
            ]
          },
          "metadata": {},
          "execution_count": 21
        }
      ]
    },
    {
      "cell_type": "markdown",
      "metadata": {
        "id": "a069d22a"
      },
      "source": [
        "# Measures of Variability\n",
        "The measures of central tendency aren’t sufficient to describe data. You’ll also need the measures of variability that quantify the spread of data points. In this section, you’ll learn how to identify and calculate the following variability measures:\n",
        "\n",
        "* Variance\n",
        "* Standard deviation\n",
        "* Skewness\n",
        "* Percentiles\n",
        "* Ranges\n",
        "\n",
        "\n",
        "# Variance\n",
        "The sample variance quantifies the spread of the data. It shows numerically how far the data points are from the mean. You can express the sample variance of the dataset 𝑥 with 𝑛 elements mathematically as 𝑠² = Σᵢ(𝑥ᵢ − mean(𝑥))² / (𝑛 − 1), where 𝑖 = 1, 2, …, 𝑛 and mean(𝑥) is the sample mean of 𝑥. "
      ],
      "id": "a069d22a"
    },
    {
      "cell_type": "markdown",
      "source": [
        "![variance.PNG](data:image/png;base64,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)"
      ],
      "metadata": {
        "id": "FCnSH0gD0wmG"
      },
      "id": "FCnSH0gD0wmG"
    },
    {
      "cell_type": "code",
      "source": [
        "mean_ = sum(x) / len(x)\n",
        "sum=0\n",
        "len1=len(x)-1\n",
        "\n",
        "for i in range(len(x)):\n",
        "  var1 = (x[i] - mean_)**2 \n",
        "  sum=sum+var1\n",
        "\n",
        "print(sum/ len1)    "
      ],
      "metadata": {
        "colab": {
          "base_uri": "https://localhost:8080/"
        },
        "id": "fm713_Ub1kxz",
        "outputId": "adc51bfd-d2fa-42a9-8975-0a966328c798"
      },
      "id": "fm713_Ub1kxz",
      "execution_count": 22,
      "outputs": [
        {
          "output_type": "stream",
          "name": "stdout",
          "text": [
            "123.19999999999999\n"
          ]
        }
      ]
    },
    {
      "cell_type": "code",
      "metadata": {
        "id": "72ac8155",
        "outputId": "458fcdc1-8ff6-4578-ef2b-0606f146ea1d",
        "colab": {
          "base_uri": "https://localhost:8080/"
        }
      },
      "source": [
        "var_ = statistics.variance(x)\n",
        "var_"
      ],
      "id": "72ac8155",
      "execution_count": 23,
      "outputs": [
        {
          "output_type": "execute_result",
          "data": {
            "text/plain": [
              "123.2"
            ]
          },
          "metadata": {},
          "execution_count": 23
        }
      ]
    },
    {
      "cell_type": "code",
      "metadata": {
        "id": "8c0268fb",
        "outputId": "d27848a1-6f6a-4383-c3b5-4b3a2f9e741e",
        "colab": {
          "base_uri": "https://localhost:8080/"
        }
      },
      "source": [
        "var_ = np.var(x, ddof=1)                                   #If, ddof is specified, the divisor N - ddof is used.\n",
        "var_"
      ],
      "id": "8c0268fb",
      "execution_count": 24,
      "outputs": [
        {
          "output_type": "execute_result",
          "data": {
            "text/plain": [
              "123.19999999999999"
            ]
          },
          "metadata": {},
          "execution_count": 24
        }
      ]
    },
    {
      "cell_type": "markdown",
      "metadata": {
        "id": "9b65c041"
      },
      "source": [
        "# Standard Deviation\n",
        "The sample standard deviation is another measure of data spread. It’s connected to the sample variance, as standard deviation, 𝑠, is the positive square root of the sample variance. The standard deviation is often more convenient than the variance because it has the same unit as the data points."
      ],
      "id": "9b65c041"
    },
    {
      "cell_type": "markdown",
      "source": [
        "![Std Deviation.PNG](data:image/png;base64,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)"
      ],
      "metadata": {
        "id": "inxvIKp-DLZT"
      },
      "id": "inxvIKp-DLZT"
    },
    {
      "cell_type": "markdown",
      "source": [
        "![Stf Deviation1.PNG](data:image/png;base64,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)"
      ],
      "metadata": {
        "id": "py4YXrOdDrAv"
      },
      "id": "py4YXrOdDrAv"
    },
    {
      "cell_type": "code",
      "metadata": {
        "id": "3dfcab46",
        "outputId": "21ee7740-27c0-4283-d2aa-a5e5cf4ef202",
        "colab": {
          "base_uri": "https://localhost:8080/"
        }
      },
      "source": [
        "std_ = statistics.stdev(x)\n",
        "std_"
      ],
      "id": "3dfcab46",
      "execution_count": 24,
      "outputs": [
        {
          "output_type": "execute_result",
          "data": {
            "text/plain": [
              "11.099549540409287"
            ]
          },
          "metadata": {},
          "execution_count": 24
        }
      ]
    },
    {
      "cell_type": "code",
      "metadata": {
        "id": "72c28b4a",
        "outputId": "8c9eda8d-ed77-4cfb-8c8d-f576b5f4e7ba",
        "colab": {
          "base_uri": "https://localhost:8080/"
        }
      },
      "source": [
        "np.std(x, ddof=1)\n"
      ],
      "id": "72c28b4a",
      "execution_count": 26,
      "outputs": [
        {
          "output_type": "execute_result",
          "data": {
            "text/plain": [
              "11.099549540409285"
            ]
          },
          "metadata": {},
          "execution_count": 26
        }
      ]
    },
    {
      "cell_type": "markdown",
      "metadata": {
        "id": "e96c2608"
      },
      "source": [
        "# Skewness\n",
        "The sample skewness measures the asymmetry of a data sample.\n",
        "The measure of asymmetry in a probability distribution is defined by Skewness. \n",
        "\n",
        "It can either be positive, negative or undefined.\n",
        "\n",
        "* Positive Skew — This is the case when the tail on the right side of the curve is bigger than that on the left side. For these distributions, mean is greater than the median.\n",
        "* Negative Skew — This is the case when the tail on the left side of the curve is bigger than that on the right side. For these distributions, mean is smaller than the median.\n",
        "* If the skewness is zero, the distribution is symmetrical."
      ],
      "id": "e96c2608"
    },
    {
      "cell_type": "markdown",
      "source": [
        "![skewness.PNG](data:image/png;base64,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)"
      ],
      "metadata": {
        "id": "n7tSWTY_hwQl"
      },
      "id": "n7tSWTY_hwQl"
    },
    {
      "cell_type": "markdown",
      "source": [
        "![skewness graphs.PNG](data:image/png;base64,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)"
      ],
      "metadata": {
        "id": "HT7O0r9yiapx"
      },
      "id": "HT7O0r9yiapx"
    },
    {
      "cell_type": "code",
      "metadata": {
        "id": "ae87b1fe",
        "outputId": "a2164aca-06f5-4c65-f628-6f8dfa182276",
        "colab": {
          "base_uri": "https://localhost:8080/"
        }
      },
      "source": [
        "scipy.stats.skew(x, bias=False)"
      ],
      "id": "ae87b1fe",
      "execution_count": 4,
      "outputs": [
        {
          "output_type": "execute_result",
          "data": {
            "text/plain": [
              "1.9470432273905927"
            ]
          },
          "metadata": {},
          "execution_count": 4
        }
      ]
    },
    {
      "cell_type": "markdown",
      "metadata": {
        "id": "74304127"
      },
      "source": [
        "# Ranges\n",
        "The range of data is the difference between the maximum and minimum element in the dataset."
      ],
      "id": "74304127"
    },
    {
      "cell_type": "code",
      "metadata": {
        "id": "b6ebf54d",
        "outputId": "5b02bac7-c39c-4a1a-f30a-3652fccaadfd",
        "colab": {
          "base_uri": "https://localhost:8080/"
        }
      },
      "source": [
        "np.ptp(x)"
      ],
      "id": "b6ebf54d",
      "execution_count": 5,
      "outputs": [
        {
          "output_type": "execute_result",
          "data": {
            "text/plain": [
              "27.0"
            ]
          },
          "metadata": {},
          "execution_count": 5
        }
      ]
    },
    {
      "cell_type": "markdown",
      "metadata": {
        "id": "df1a58f2"
      },
      "source": [
        "# Summary of Descriptive Statistics\n",
        "SciPy and Pandas offer useful routines to quickly get descriptive statistics with a single function or method call. You can use scipy.stats.describe() like this:"
      ],
      "id": "df1a58f2"
    },
    {
      "cell_type": "code",
      "metadata": {
        "id": "d5bac1cc",
        "outputId": "df3e29db-6d98-445d-b2b8-31c2e92480b3",
        "colab": {
          "base_uri": "https://localhost:8080/"
        }
      },
      "source": [
        "result = scipy.stats.describe(x, ddof=1, bias=False)\n",
        "result"
      ],
      "id": "d5bac1cc",
      "execution_count": 6,
      "outputs": [
        {
          "output_type": "execute_result",
          "data": {
            "text/plain": [
              "DescribeResult(nobs=5, minmax=(1.0, 28.0), mean=8.7, variance=123.19999999999999, skewness=1.9470432273905927, kurtosis=3.878019618875446)"
            ]
          },
          "metadata": {},
          "execution_count": 6
        }
      ]
    },
    {
      "cell_type": "code",
      "metadata": {
        "id": "33ab9ef7"
      },
      "source": [
        "import csv"
      ],
      "id": "33ab9ef7",
      "execution_count": 27,
      "outputs": []
    },
    {
      "cell_type": "code",
      "metadata": {
        "id": "c162b520",
        "colab": {
          "base_uri": "https://localhost:8080/",
          "height": 186
        },
        "outputId": "5822f1f1-e527-48c4-e6a5-304bddbdb69e"
      },
      "source": [
        "with open(\"weight-height.csv\", \"r\", encoding=\"latin-1\") as f:\n",
        "    hw = list(csv.reader(f))"
      ],
      "id": "c162b520",
      "execution_count": 31,
      "outputs": [
        {
          "output_type": "error",
          "ename": "FileNotFoundError",
          "evalue": "ignored",
          "traceback": [
            "\u001b[0;31m---------------------------------------------------------------------------\u001b[0m",
            "\u001b[0;31mFileNotFoundError\u001b[0m                         Traceback (most recent call last)",
            "\u001b[0;32m<ipython-input-31-c1c5ca2bc2a6>\u001b[0m in \u001b[0;36m<module>\u001b[0;34m()\u001b[0m\n\u001b[0;32m----> 1\u001b[0;31m \u001b[0;32mwith\u001b[0m \u001b[0mopen\u001b[0m\u001b[0;34m(\u001b[0m\u001b[0;34m\"weight-height.csv\"\u001b[0m\u001b[0;34m,\u001b[0m \u001b[0;34m\"r\"\u001b[0m\u001b[0;34m,\u001b[0m \u001b[0mencoding\u001b[0m\u001b[0;34m=\u001b[0m\u001b[0;34m\"latin-1\"\u001b[0m\u001b[0;34m)\u001b[0m \u001b[0;32mas\u001b[0m \u001b[0mf\u001b[0m\u001b[0;34m:\u001b[0m\u001b[0;34m\u001b[0m\u001b[0;34m\u001b[0m\u001b[0m\n\u001b[0m\u001b[1;32m      2\u001b[0m     \u001b[0mhw\u001b[0m \u001b[0;34m=\u001b[0m \u001b[0mlist\u001b[0m\u001b[0;34m(\u001b[0m\u001b[0mcsv\u001b[0m\u001b[0;34m.\u001b[0m\u001b[0mreader\u001b[0m\u001b[0;34m(\u001b[0m\u001b[0mf\u001b[0m\u001b[0;34m)\u001b[0m\u001b[0;34m)\u001b[0m\u001b[0;34m\u001b[0m\u001b[0;34m\u001b[0m\u001b[0m\n",
            "\u001b[0;31mFileNotFoundError\u001b[0m: [Errno 2] No such file or directory: 'weight-height.csv'"
          ]
        }
      ]
    },
    {
      "cell_type": "code",
      "metadata": {
        "id": "e4f9520e"
      },
      "source": [
        "print(hw)"
      ],
      "id": "e4f9520e",
      "execution_count": null,
      "outputs": []
    },
    {
      "cell_type": "code",
      "metadata": {
        "id": "bbeefe48"
      },
      "source": [
        "a=np.array(hw)"
      ],
      "id": "bbeefe48",
      "execution_count": null,
      "outputs": []
    },
    {
      "cell_type": "code",
      "metadata": {
        "id": "779a7f1a"
      },
      "source": [
        "print(a)"
      ],
      "id": "779a7f1a",
      "execution_count": null,
      "outputs": []
    },
    {
      "cell_type": "code",
      "metadata": {
        "id": "b2edb96d"
      },
      "source": [
        "height = a[1:,1]\n",
        "height"
      ],
      "id": "b2edb96d",
      "execution_count": null,
      "outputs": []
    },
    {
      "cell_type": "code",
      "metadata": {
        "id": "072914ed"
      },
      "source": [
        "vector = np.vectorize(np.float)                   # The purpose of np.vectorize is to transform functions\n",
        "                                                                  # which are not numpy-aware (e.g. take floats as input and return floats as output) into functions \n",
        "                                                                  # that can operate on (and return) numpy arrays.\n",
        "height = vector(a[1:,1])"
      ],
      "id": "072914ed",
      "execution_count": null,
      "outputs": []
    },
    {
      "cell_type": "code",
      "metadata": {
        "id": "4ead1452"
      },
      "source": [
        "print(height)"
      ],
      "id": "4ead1452",
      "execution_count": null,
      "outputs": []
    },
    {
      "cell_type": "code",
      "metadata": {
        "id": "5bd9c085"
      },
      "source": [
        "m=height.mean()\n",
        "m"
      ],
      "id": "5bd9c085",
      "execution_count": null,
      "outputs": []
    },
    {
      "cell_type": "code",
      "metadata": {
        "id": "5846cacf"
      },
      "source": [
        ""
      ],
      "id": "5846cacf",
      "execution_count": null,
      "outputs": []
    },
    {
      "cell_type": "code",
      "metadata": {
        "id": "461f5570"
      },
      "source": [
        ""
      ],
      "id": "461f5570",
      "execution_count": null,
      "outputs": []
    }
  ]
}