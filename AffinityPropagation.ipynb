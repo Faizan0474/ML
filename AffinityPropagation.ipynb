{
 "cells": [
  {
   "cell_type": "code",
   "execution_count": 2,
   "metadata": {
    "collapsed": true
   },
   "outputs": [],
   "source": [
    "import numpy as np\n",
    "from matplotlib import pyplot as plt\n",
    "import seaborn as sns\n",
    "sns.set()\n",
    "from sklearn.datasets import make_blobs\n",
    "from sklearn.cluster import AffinityPropagation"
   ]
  },
  {
   "cell_type": "code",
   "execution_count": 11,
   "metadata": {
    "collapsed": true
   },
   "outputs": [],
   "source": [
    "#Parameters\n",
    "#n_samples : int, optional (default=100)\n",
    "#The total number of points equally divided among clusters.\n",
    "\n",
    "#n_features : int, optional (default=2)\n",
    "#The number of features for each sample.\n",
    "\n",
    "#centers : int or array of shape [n_centers, n_features], optional\n",
    "#(default=3) The number of centers to generate, or the fixed center locations.\n",
    "\n",
    "#cluster_std: float or sequence of floats, optional (default=1.0)\n",
    "#The standard deviation of the clusters.\n",
    "\n",
    "#center_box: pair of floats (min, max), optional (default=(-10.0, 10.0))\n",
    "#The bounding box for each cluster center when centers are generated at random.\n",
    "\n",
    "#shuffle : boolean, optional (default=True)\n",
    "#Shuffle the samples.\n",
    "\n",
    "#random_state : int, RandomState instance or None, optional (default=None)\n",
    "#If int, random_state is the seed used by the random number generator;\n",
    "#If RandomState instance, random_state is the random number generator; \n",
    "#If None, the random number generator is the RandomState instance used by np.random."
   ]
  },
  {
   "cell_type": "markdown",
   "metadata": {},
   "source": [
    "We just created the matrix X that has 120 rows (one for each sample) with two columns each (meaning two features), and the vector clusters, that has 120 values, indicating which group a data sample belongs to."
   ]
  },
  {
   "cell_type": "code",
   "execution_count": 3,
   "metadata": {
    "collapsed": true
   },
   "outputs": [],
   "source": [
    "X, clusters = make_blobs(n_samples=300, centers=4, cluster_std=0.60, random_state=0)"
   ]
  },
  {
   "cell_type": "code",
   "execution_count": 4,
   "metadata": {},
   "outputs": [
    {
     "name": "stdout",
     "output_type": "stream",
     "text": [
      "[[ -1.82572348e+00   4.07560149e+00]\n",
      " [ -1.46976488e+00   7.69183251e+00]\n",
      " [  2.29667251e+00   4.86777605e-01]\n",
      " [  5.95676822e-01   4.08614263e+00]\n",
      " [  9.59360742e-01   4.56078645e+00]\n",
      " [  2.76253526e+00   7.89708758e-01]\n",
      " [ -9.70171483e-02   3.48456995e+00]\n",
      " [ -1.97375691e+00   2.42201914e+00]\n",
      " [  1.35139348e+00   2.06383637e+00]\n",
      " [  1.80709613e+00   4.49190773e-01]\n",
      " [ -9.92500536e-01   8.24160484e+00]\n",
      " [  1.24258802e+00   4.50399192e+00]\n",
      " [ -1.26285145e+00   7.39264147e+00]\n",
      " [ -2.10269232e+00   7.53946809e+00]\n",
      " [  1.07329596e-01   7.81010572e+00]\n",
      " [  1.01618041e+00   4.48527047e+00]\n",
      " [  1.63852681e+00   8.07882936e-01]\n",
      " [ -2.07459735e+00   3.58809203e+00]\n",
      " [ -8.14086138e-01   3.10804783e+00]\n",
      " [  2.24592863e-01   4.77028154e+00]\n",
      " [ -5.88460017e-01   8.22861825e+00]\n",
      " [ -1.60664542e+00   7.69270698e+00]\n",
      " [ -1.90841166e+00   3.32374224e+00]\n",
      " [  1.00372519e+00   4.19147702e+00]\n",
      " [ -1.15435185e+00   7.97476864e+00]\n",
      " [ -1.98885366e+00   3.24143178e+00]\n",
      " [  2.33466499e+00  -2.40825518e-02]\n",
      " [ -1.15176514e+00   1.95664767e+00]\n",
      " [ -1.01280565e+00   2.52726691e+00]\n",
      " [ -1.69199357e+00   8.76126877e+00]\n",
      " [  1.53853211e+00   2.04370263e+00]\n",
      " [ -1.84892963e-03   4.58145668e+00]\n",
      " [  2.49272186e+00   9.75053406e-01]\n",
      " [  4.88382309e-01   3.26801777e+00]\n",
      " [  1.71444449e+00   5.02521524e+00]\n",
      " [  2.18023251e+00   1.48364708e+00]\n",
      " [  1.43289271e+00   4.37679234e+00]\n",
      " [  1.06269622e+00   5.17635143e+00]\n",
      " [  1.08272576e+00   4.06271877e+00]\n",
      " [  1.89446550e+00   1.37913750e+00]\n",
      " [  6.70478769e-01   4.04094275e+00]\n",
      " [  2.28112284e+00   2.38023186e-01]\n",
      " [  1.81336135e+00   1.63113070e+00]\n",
      " [ -1.12352716e+00   3.16235936e+00]\n",
      " [ -1.28929999e+00   2.26204536e+00]\n",
      " [ -5.55523811e-01   4.69595848e+00]\n",
      " [ -1.57397266e+00   8.08509004e+00]\n",
      " [ -1.08030102e+00   7.77656978e+00]\n",
      " [  7.67522789e-01   4.39759671e+00]\n",
      " [  1.06923853e+00   4.53068484e+00]\n",
      " [  1.89593761e+00   5.18540259e+00]\n",
      " [ -7.85181444e-01   8.32956251e+00]\n",
      " [  1.41281595e+00   1.53033470e+00]\n",
      " [  1.29297652e+00   1.47930168e+00]\n",
      " [  3.47138300e-01   3.45177657e+00]\n",
      " [ -1.52641336e+00   8.12434890e+00]\n",
      " [ -8.64176859e-01   6.86528639e+00]\n",
      " [ -9.34289778e-01   7.73253222e+00]\n",
      " [ -1.18094952e+00   2.79290301e+00]\n",
      " [  1.53278923e+00   5.50353861e-01]\n",
      " [  7.43873988e-01   4.12240568e+00]\n",
      " [  4.43598630e-01   3.11530945e+00]\n",
      " [  6.69786996e-01   3.59540802e+00]\n",
      " [  2.62361870e+00   8.04657604e-01]\n",
      " [ -1.25846802e+00   8.06295106e+00]\n",
      " [  2.42371514e+00   1.45098766e+00]\n",
      " [ -2.21538520e+00   2.65519023e+00]\n",
      " [ -1.81492353e+00   7.58943020e+00]\n",
      " [ -1.73930036e+00   2.09291149e+00]\n",
      " [ -1.93150361e+00   2.93698060e+00]\n",
      " [  1.35617762e+00   1.43815955e+00]\n",
      " [ -9.57251529e-01   2.97041301e+00]\n",
      " [ -2.12703322e+00   1.99101960e+00]\n",
      " [  7.93137001e-03   4.17614316e+00]\n",
      " [ -2.42165857e+00   3.18151728e+00]\n",
      " [  1.86833600e+00   9.31362865e-01]\n",
      " [ -4.74920358e-02   5.47425256e+00]\n",
      " [ -9.74388719e-01   3.10911885e+00]\n",
      " [  1.87271752e+00   4.18069237e+00]\n",
      " [  2.13141478e+00   1.13885728e+00]\n",
      " [  3.20903274e+00   1.78597253e+00]\n",
      " [  2.23421043e+00   1.69349520e+00]\n",
      " [  1.79417539e+00   2.00722190e+00]\n",
      " [  2.06156753e+00   1.96918596e+00]\n",
      " [ -2.31644846e+00   2.64093150e+00]\n",
      " [  2.73890793e+00   1.56768168e-01]\n",
      " [ -2.26216532e+00   3.42450005e+00]\n",
      " [  5.72793810e-01   4.08805543e+00]\n",
      " [ -7.02148430e-01   8.02579094e+00]\n",
      " [ -1.91307505e+00   1.58384037e+00]\n",
      " [ -8.50922460e-01   2.26992336e+00]\n",
      " [ -2.18953402e+00   2.94918131e+00]\n",
      " [  2.94821884e+00   2.03519717e+00]\n",
      " [  3.17580290e+00   1.44129045e+00]\n",
      " [ -1.82182278e+00   7.62787095e+00]\n",
      " [  3.18515794e+00   8.90082233e-02]\n",
      " [  2.26908736e+00   1.32160756e+00]\n",
      " [  2.33812285e+00   3.43116792e+00]\n",
      " [ -1.27182547e+00   7.13460392e+00]\n",
      " [  4.38990142e-01   4.53592883e+00]\n",
      " [ -1.32798412e+00   7.65678549e+00]\n",
      " [ -1.94196523e+00   8.30417888e+00]\n",
      " [ -1.58597553e+00   2.51979529e+00]\n",
      " [  1.51088850e+00   9.28830897e-01]\n",
      " [ -3.51565048e-01   6.59346900e+00]\n",
      " [  1.16411070e+00   3.79132988e+00]\n",
      " [  9.14338767e-01   4.55014643e+00]\n",
      " [  4.96857948e-02   8.63737679e+00]\n",
      " [ -2.14744972e+00   3.32683897e+00]\n",
      " [ -1.56784898e+00   3.94588789e+00]\n",
      " [ -5.56856836e-01   8.48323117e+00]\n",
      " [ -7.76458997e-01   7.55560856e+00]\n",
      " [ -1.63071799e+00   7.59709693e+00]\n",
      " [ -2.17273398e+00   7.87341721e+00]\n",
      " [ -2.02396992e+00   7.99569054e+00]\n",
      " [ -1.80022352e+00   2.92836976e+00]\n",
      " [ -1.42689992e+00   3.29890112e+00]\n",
      " [  1.49493180e+00   3.85848832e+00]\n",
      " [ -2.00894981e+00   2.50415239e+00]\n",
      " [ -1.43366356e+00   6.82985773e+00]]\n"
     ]
    },
    {
     "data": {
      "text/plain": [
       "(120, 2)"
      ]
     },
     "execution_count": 4,
     "metadata": {},
     "output_type": "execute_result"
    }
   ],
   "source": [
    "print(X)\n",
    "X.shape"
   ]
  },
  {
   "cell_type": "code",
   "execution_count": 14,
   "metadata": {},
   "outputs": [
    {
     "data": {
      "text/plain": [
       "array([1, 3, 0, 3, 1, 1, 2, 0, 3, 3, 2, 3, 0, 3, 1, 0, 0, 1, 2, 2, 1, 1,\n",
       "       0, 2, 2, 0, 1, 0, 2, 0, 3, 3, 0, 3, 3, 3, 3, 3, 2, 1, 0, 2, 0, 0,\n",
       "       2, 2, 3, 2, 3, 1, 2, 1, 3, 1, 1, 2, 3, 2, 3, 1, 3, 0, 3, 2, 2, 2,\n",
       "       3, 1, 3, 2, 0, 2, 3, 2, 2, 3, 2, 0, 1, 3, 1, 0, 1, 1, 3, 0, 1, 0,\n",
       "       3, 3, 0, 1, 3, 2, 2, 0, 1, 1, 0, 2, 3, 1, 3, 1, 0, 1, 1, 0, 3, 0,\n",
       "       2, 2, 1, 3, 1, 0, 3, 1, 1, 0, 2, 1, 2, 1, 1, 1, 1, 2, 1, 2, 3, 2,\n",
       "       2, 1, 3, 2, 2, 3, 0, 3, 3, 2, 0, 2, 0, 2, 3, 0, 3, 3, 3, 0, 3, 0,\n",
       "       1, 2, 3, 2, 1, 0, 3, 0, 0, 1, 0, 2, 2, 0, 1, 0, 0, 3, 1, 0, 2, 3,\n",
       "       1, 1, 0, 2, 1, 0, 2, 2, 0, 0, 0, 0, 1, 3, 0, 2, 0, 0, 2, 2, 2, 0,\n",
       "       2, 3, 0, 2, 1, 2, 0, 3, 2, 3, 0, 3, 0, 2, 0, 0, 3, 2, 2, 1, 1, 0,\n",
       "       3, 1, 1, 2, 1, 2, 0, 3, 3, 0, 0, 3, 0, 1, 2, 0, 1, 2, 3, 2, 1, 0,\n",
       "       1, 3, 3, 3, 3, 2, 2, 3, 0, 2, 1, 0, 2, 2, 2, 1, 1, 3, 0, 0, 2, 1,\n",
       "       3, 2, 0, 3, 0, 1, 1, 2, 2, 0, 1, 1, 1, 0, 3, 3, 1, 1, 0, 1, 1, 1,\n",
       "       3, 2, 3, 0, 1, 1, 3, 3, 3, 1, 1, 0, 3, 2])"
      ]
     },
     "execution_count": 14,
     "metadata": {},
     "output_type": "execute_result"
    }
   ],
   "source": [
    "clusters"
   ]
  },
  {
   "cell_type": "code",
   "execution_count": 5,
   "metadata": {},
   "outputs": [
    {
     "data": {
      "text/plain": [
       "<matplotlib.collections.PathCollection at 0x7fd5180160>"
      ]
     },
     "execution_count": 5,
     "metadata": {},
     "output_type": "execute_result"
    }
   ],
   "source": [
    "plt.scatter(X[:,0], X[:,1], alpha=0.5, edgecolors='b')"
   ]
  },
  {
   "cell_type": "code",
   "execution_count": 6,
   "metadata": {},
   "outputs": [],
   "source": [
    "#Every point will be assigned not only a similarity against each other point, but also a self-similiarity with itself, called preference. \n",
    "#In general, higher preferences -> more cluster, lower preferences -> less clusters.\n",
    "af = AffinityPropagation(preference=-50)\n",
    "clustering = af.fit(X)"
   ]
  },
  {
   "cell_type": "code",
   "execution_count": 7,
   "metadata": {},
   "outputs": [
    {
     "data": {
      "text/plain": [
       "<matplotlib.collections.PathCollection at 0x7fd5180fd0>"
      ]
     },
     "execution_count": 7,
     "metadata": {},
     "output_type": "execute_result"
    }
   ],
   "source": [
    "plt.scatter(X[:,0], X[:,1], c=clustering.labels_, cmap='rainbow', alpha=0.7, edgecolors='b')"
   ]
  },
  {
   "cell_type": "markdown",
   "metadata": {
    "collapsed": true
   },
   "source": [
    "Appliacation of affinity propagation\n",
    "\n",
    "Suppose, you are the head of a rental store and wish to understand preferences of your costumers to scale up your business. Is it possible for you to look at details of each costumer and devise a unique business strategy for each one of them? Definitely not. But, what you can do is to cluster all of your costumers into say 10 groups based on their purchasing habits and use a separate strategy for costumers in each of these 10 groups. "
   ]
  },
  {
   "cell_type": "code",
   "execution_count": null,
   "metadata": {
    "collapsed": true
   },
   "outputs": [],
   "source": []
  }
 ],
 "metadata": {
  "kernelspec": {
   "display_name": "Python 3",
   "language": "python",
   "name": "python3"
  },
  "language_info": {
   "codemirror_mode": {
    "name": "ipython",
    "version": 3
   },
   "file_extension": ".py",
   "mimetype": "text/x-python",
   "name": "python",
   "nbconvert_exporter": "python",
   "pygments_lexer": "ipython3",
   "version": "3.6.2"
  }
 },
 "nbformat": 4,
 "nbformat_minor": 5
}
